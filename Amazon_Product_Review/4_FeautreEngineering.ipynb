{
  "nbformat": 4,
  "nbformat_minor": 0,
  "metadata": {
    "colab": {
      "provenance": [],
      "mount_file_id": "14xlpE5D333oSRrpSymIxCUl72xPHw3uU",
      "authorship_tag": "ABX9TyOLiKLb5fPfpdHetqKjlRxQ",
      "include_colab_link": true
    },
    "kernelspec": {
      "name": "python3",
      "display_name": "Python 3"
    },
    "language_info": {
      "name": "python"
    }
  },
  "cells": [
    {
      "cell_type": "markdown",
      "metadata": {
        "id": "view-in-github",
        "colab_type": "text"
      },
      "source": [
        "<a href=\"https://colab.research.google.com/github/RoksanaMaya/MLGrit/blob/main/Amazon_Product_Review/4_FeautreEngineering.ipynb\" target=\"_parent\"><img src=\"https://colab.research.google.com/assets/colab-badge.svg\" alt=\"Open In Colab\"/></a>"
      ]
    },
    {
      "cell_type": "code",
      "execution_count": null,
      "metadata": {
        "id": "Y0uLPBwfuySX"
      },
      "outputs": [],
      "source": []
    },
    {
      "cell_type": "markdown",
      "source": [
        "# Import"
      ],
      "metadata": {
        "id": "1qgnwY3eu6gP"
      }
    },
    {
      "cell_type": "code",
      "source": [
        "import numpy as np\n",
        "import pandas as pd\n",
        "import matplotlib.pyplot as plt\n"
      ],
      "metadata": {
        "id": "mBZvL6TJvAP8"
      },
      "execution_count": null,
      "outputs": []
    },
    {
      "cell_type": "code",
      "source": [
        "import re\n",
        "from nltk import download\n",
        "from nltk.corpus import stopwords\n",
        "from nltk.tokenize import word_tokenize\n",
        "from wordcloud import WordCloud\n",
        "from nltk.stem import  WordNetLemmatizer"
      ],
      "metadata": {
        "id": "qXi77BJXvDJF"
      },
      "execution_count": null,
      "outputs": []
    },
    {
      "cell_type": "code",
      "source": [
        "download('stopwords')\n",
        "download('wordnet')\n",
        "download('punkt')"
      ],
      "metadata": {
        "colab": {
          "base_uri": "https://localhost:8080/"
        },
        "id": "Bb_1FoBNvFQ0",
        "outputId": "dcbea300-ed3f-49bd-a9fa-0ed7636a45c0"
      },
      "execution_count": null,
      "outputs": [
        {
          "output_type": "stream",
          "name": "stderr",
          "text": [
            "[nltk_data] Downloading package stopwords to /root/nltk_data...\n",
            "[nltk_data]   Unzipping corpora/stopwords.zip.\n",
            "[nltk_data] Downloading package wordnet to /root/nltk_data...\n",
            "[nltk_data] Downloading package punkt to /root/nltk_data...\n",
            "[nltk_data]   Unzipping tokenizers/punkt.zip.\n"
          ]
        },
        {
          "output_type": "execute_result",
          "data": {
            "text/plain": [
              "True"
            ]
          },
          "metadata": {},
          "execution_count": 3
        }
      ]
    },
    {
      "cell_type": "code",
      "source": [
        "df = pd.read_parquet('/content/drive/MyDrive/Colab Notebooks/All_Beauty_v4.parquet')"
      ],
      "metadata": {
        "id": "06sXsJYTvPB-"
      },
      "execution_count": null,
      "outputs": []
    },
    {
      "cell_type": "code",
      "source": [
        "new = pd.concat([df[df.sentiment == 0].head(10000), df[df.sentiment == 1].head(10000)], ignore_index=True)\n",
        "del df"
      ],
      "metadata": {
        "id": "J3u3UGdqvYZ3"
      },
      "execution_count": null,
      "outputs": []
    },
    {
      "cell_type": "code",
      "source": [
        "new.reviewLength.quantile(0.8)"
      ],
      "metadata": {
        "colab": {
          "base_uri": "https://localhost:8080/"
        },
        "id": "5mXwBKLbvdxF",
        "outputId": "dd156255-5312-41a2-e3db-2fdf13ff63a8"
      },
      "execution_count": null,
      "outputs": [
        {
          "output_type": "execute_result",
          "data": {
            "text/plain": [
              "54.0"
            ]
          },
          "metadata": {},
          "execution_count": 10
        }
      ]
    },
    {
      "cell_type": "markdown",
      "source": [
        "# TF-IDF"
      ],
      "metadata": {
        "id": "7PjsNV1BvfCW"
      }
    },
    {
      "cell_type": "code",
      "source": [
        "from sklearn.feature_extraction.text import TfidfVectorizer"
      ],
      "metadata": {
        "id": "nYu-FEMovicn"
      },
      "execution_count": null,
      "outputs": []
    },
    {
      "cell_type": "code",
      "source": [
        "tf_idf = TfidfVectorizer(stop_words=stopwords.words('english'), max_features=500)\n",
        "tf_idf.fit_transform(new['reviewText']).toarray().shape"
      ],
      "metadata": {
        "colab": {
          "base_uri": "https://localhost:8080/"
        },
        "id": "Zaz5WwkQvl91",
        "outputId": "bffbf0f6-a94c-4a49-e5ed-0490d7181b2e"
      },
      "execution_count": null,
      "outputs": [
        {
          "output_type": "execute_result",
          "data": {
            "text/plain": [
              "(20000, 500)"
            ]
          },
          "metadata": {},
          "execution_count": 11
        }
      ]
    },
    {
      "cell_type": "markdown",
      "source": [
        "### Dimesionality Reduction/ Principal Component Analysis"
      ],
      "metadata": {
        "id": "TURR9-STvzkX"
      }
    },
    {
      "cell_type": "code",
      "source": [
        "tf_idf.fit_transform(new['reviewText'])"
      ],
      "metadata": {
        "colab": {
          "base_uri": "https://localhost:8080/"
        },
        "id": "asyjjGb-wBRA",
        "outputId": "afea9815-a642-4d52-d5bb-0613f49781be"
      },
      "execution_count": null,
      "outputs": [
        {
          "output_type": "execute_result",
          "data": {
            "text/plain": [
              "<20000x500 sparse matrix of type '<class 'numpy.float64'>'\n",
              "\twith 154762 stored elements in Compressed Sparse Row format>"
            ]
          },
          "metadata": {},
          "execution_count": 26
        }
      ]
    },
    {
      "cell_type": "code",
      "source": [
        "from sklearn.decomposition import PCA"
      ],
      "metadata": {
        "id": "UVRZIcGdv19s"
      },
      "execution_count": null,
      "outputs": []
    },
    {
      "cell_type": "code",
      "source": [
        "reducer = PCA(n_components=50, random_state=42)"
      ],
      "metadata": {
        "id": "auamEhGUv3Fl"
      },
      "execution_count": null,
      "outputs": []
    },
    {
      "cell_type": "code",
      "source": [
        "reducer.fit(tf_idf.fit_transform(new['reviewText']).toarray())"
      ],
      "metadata": {
        "colab": {
          "base_uri": "https://localhost:8080/",
          "height": 74
        },
        "id": "g3kte8M9v6rt",
        "outputId": "255982e9-d199-48d6-c7e6-d5a82eab9fdd"
      },
      "execution_count": null,
      "outputs": [
        {
          "output_type": "execute_result",
          "data": {
            "text/plain": [
              "PCA(n_components=50, random_state=42)"
            ],
            "text/html": [
              "<style>#sk-container-id-1 {color: black;background-color: white;}#sk-container-id-1 pre{padding: 0;}#sk-container-id-1 div.sk-toggleable {background-color: white;}#sk-container-id-1 label.sk-toggleable__label {cursor: pointer;display: block;width: 100%;margin-bottom: 0;padding: 0.3em;box-sizing: border-box;text-align: center;}#sk-container-id-1 label.sk-toggleable__label-arrow:before {content: \"▸\";float: left;margin-right: 0.25em;color: #696969;}#sk-container-id-1 label.sk-toggleable__label-arrow:hover:before {color: black;}#sk-container-id-1 div.sk-estimator:hover label.sk-toggleable__label-arrow:before {color: black;}#sk-container-id-1 div.sk-toggleable__content {max-height: 0;max-width: 0;overflow: hidden;text-align: left;background-color: #f0f8ff;}#sk-container-id-1 div.sk-toggleable__content pre {margin: 0.2em;color: black;border-radius: 0.25em;background-color: #f0f8ff;}#sk-container-id-1 input.sk-toggleable__control:checked~div.sk-toggleable__content {max-height: 200px;max-width: 100%;overflow: auto;}#sk-container-id-1 input.sk-toggleable__control:checked~label.sk-toggleable__label-arrow:before {content: \"▾\";}#sk-container-id-1 div.sk-estimator input.sk-toggleable__control:checked~label.sk-toggleable__label {background-color: #d4ebff;}#sk-container-id-1 div.sk-label input.sk-toggleable__control:checked~label.sk-toggleable__label {background-color: #d4ebff;}#sk-container-id-1 input.sk-hidden--visually {border: 0;clip: rect(1px 1px 1px 1px);clip: rect(1px, 1px, 1px, 1px);height: 1px;margin: -1px;overflow: hidden;padding: 0;position: absolute;width: 1px;}#sk-container-id-1 div.sk-estimator {font-family: monospace;background-color: #f0f8ff;border: 1px dotted black;border-radius: 0.25em;box-sizing: border-box;margin-bottom: 0.5em;}#sk-container-id-1 div.sk-estimator:hover {background-color: #d4ebff;}#sk-container-id-1 div.sk-parallel-item::after {content: \"\";width: 100%;border-bottom: 1px solid gray;flex-grow: 1;}#sk-container-id-1 div.sk-label:hover label.sk-toggleable__label {background-color: #d4ebff;}#sk-container-id-1 div.sk-serial::before {content: \"\";position: absolute;border-left: 1px solid gray;box-sizing: border-box;top: 0;bottom: 0;left: 50%;z-index: 0;}#sk-container-id-1 div.sk-serial {display: flex;flex-direction: column;align-items: center;background-color: white;padding-right: 0.2em;padding-left: 0.2em;position: relative;}#sk-container-id-1 div.sk-item {position: relative;z-index: 1;}#sk-container-id-1 div.sk-parallel {display: flex;align-items: stretch;justify-content: center;background-color: white;position: relative;}#sk-container-id-1 div.sk-item::before, #sk-container-id-1 div.sk-parallel-item::before {content: \"\";position: absolute;border-left: 1px solid gray;box-sizing: border-box;top: 0;bottom: 0;left: 50%;z-index: -1;}#sk-container-id-1 div.sk-parallel-item {display: flex;flex-direction: column;z-index: 1;position: relative;background-color: white;}#sk-container-id-1 div.sk-parallel-item:first-child::after {align-self: flex-end;width: 50%;}#sk-container-id-1 div.sk-parallel-item:last-child::after {align-self: flex-start;width: 50%;}#sk-container-id-1 div.sk-parallel-item:only-child::after {width: 0;}#sk-container-id-1 div.sk-dashed-wrapped {border: 1px dashed gray;margin: 0 0.4em 0.5em 0.4em;box-sizing: border-box;padding-bottom: 0.4em;background-color: white;}#sk-container-id-1 div.sk-label label {font-family: monospace;font-weight: bold;display: inline-block;line-height: 1.2em;}#sk-container-id-1 div.sk-label-container {text-align: center;}#sk-container-id-1 div.sk-container {/* jupyter's `normalize.less` sets `[hidden] { display: none; }` but bootstrap.min.css set `[hidden] { display: none !important; }` so we also need the `!important` here to be able to override the default hidden behavior on the sphinx rendered scikit-learn.org. See: https://github.com/scikit-learn/scikit-learn/issues/21755 */display: inline-block !important;position: relative;}#sk-container-id-1 div.sk-text-repr-fallback {display: none;}</style><div id=\"sk-container-id-1\" class=\"sk-top-container\"><div class=\"sk-text-repr-fallback\"><pre>PCA(n_components=50, random_state=42)</pre><b>In a Jupyter environment, please rerun this cell to show the HTML representation or trust the notebook. <br />On GitHub, the HTML representation is unable to render, please try loading this page with nbviewer.org.</b></div><div class=\"sk-container\" hidden><div class=\"sk-item\"><div class=\"sk-estimator sk-toggleable\"><input class=\"sk-toggleable__control sk-hidden--visually\" id=\"sk-estimator-id-1\" type=\"checkbox\" checked><label for=\"sk-estimator-id-1\" class=\"sk-toggleable__label sk-toggleable__label-arrow\">PCA</label><div class=\"sk-toggleable__content\"><pre>PCA(n_components=50, random_state=42)</pre></div></div></div></div></div>"
            ]
          },
          "metadata": {},
          "execution_count": 14
        }
      ]
    },
    {
      "cell_type": "code",
      "source": [
        "reducer.transform(tf_idf.fit_transform(new['reviewText']).toarray())"
      ],
      "metadata": {
        "colab": {
          "base_uri": "https://localhost:8080/"
        },
        "id": "o48P-0F4wB_n",
        "outputId": "f6057738-b92c-4fcf-9c3c-f66deaf167a4"
      },
      "execution_count": null,
      "outputs": [
        {
          "output_type": "execute_result",
          "data": {
            "text/plain": [
              "array([[ 0.18736598, -0.03755091,  0.00338344, ...,  0.00087859,\n",
              "        -0.06607543, -0.04153752],\n",
              "       [-0.04357207, -0.03768598, -0.01637543, ...,  0.01301076,\n",
              "        -0.0099984 , -0.0168232 ],\n",
              "       [-0.05234466, -0.0465909 , -0.02052937, ...,  0.00530926,\n",
              "        -0.0028729 ,  0.00497418],\n",
              "       ...,\n",
              "       [ 0.0613775 , -0.06849859, -0.01622544, ...,  0.03032442,\n",
              "         0.04761762, -0.0180653 ],\n",
              "       [-0.09382937, -0.01968279,  0.11877463, ...,  0.08585946,\n",
              "         0.01931765,  0.06398814],\n",
              "       [-0.04900108, -0.04862704, -0.01641005, ...,  0.01412451,\n",
              "        -0.00554419, -0.03727783]])"
            ]
          },
          "metadata": {},
          "execution_count": 15
        }
      ]
    },
    {
      "cell_type": "code",
      "source": [
        "features = reducer.transform(tf_idf.fit_transform(new['reviewText']).toarray())\n",
        "target = new.sentiment"
      ],
      "metadata": {
        "id": "bR6Kr7nuwFbn"
      },
      "execution_count": null,
      "outputs": []
    },
    {
      "cell_type": "code",
      "source": [
        "columns = [f'pc{i}'for i in range(1,51)]\n",
        "df = pd.DataFrame(features, columns=columns)\n",
        "df['sentiment'] = target"
      ],
      "metadata": {
        "id": "dZ5K8m-EwJPG"
      },
      "execution_count": null,
      "outputs": []
    },
    {
      "cell_type": "code",
      "source": [
        "df.head()"
      ],
      "metadata": {
        "colab": {
          "base_uri": "https://localhost:8080/",
          "height": 255
        },
        "id": "Ntv4vZcxwLUu",
        "outputId": "94a88ffc-863a-4d38-d257-00ab868e9575"
      },
      "execution_count": null,
      "outputs": [
        {
          "output_type": "execute_result",
          "data": {
            "text/plain": [
              "        pc1       pc2       pc3       pc4       pc5       pc6       pc7  \\\n",
              "0  0.187366 -0.037551  0.003383 -0.098317 -0.033124  0.029089 -0.003343   \n",
              "1 -0.043572 -0.037686 -0.016375 -0.044416 -0.002662  0.003325 -0.054178   \n",
              "2 -0.052345 -0.046591 -0.020529 -0.052221 -0.010865  0.004682 -0.042688   \n",
              "3 -0.105014  0.131481  0.333232  0.031310  0.018640 -0.005778 -0.066925   \n",
              "4 -0.045729 -0.050304 -0.054038 -0.108178  0.499385 -0.025117  0.053499   \n",
              "\n",
              "        pc8       pc9      pc10  ...      pc42      pc43      pc44      pc45  \\\n",
              "0 -0.042620  0.037142 -0.068074  ... -0.024703  0.019787  0.007909 -0.001765   \n",
              "1 -0.034707  0.005334 -0.008146  ... -0.006265 -0.003505 -0.008676 -0.010445   \n",
              "2 -0.040378  0.008212 -0.008966  ... -0.016227 -0.010633 -0.010543 -0.018910   \n",
              "3  0.070908  0.165601  0.037726  ... -0.016470 -0.034352  0.041027 -0.013902   \n",
              "4  0.002597 -0.013484  0.006202  ... -0.000272  0.003264 -0.004770  0.005261   \n",
              "\n",
              "       pc46      pc47      pc48      pc49      pc50  sentiment  \n",
              "0 -0.030302  0.066047  0.000879 -0.066075 -0.041538          0  \n",
              "1  0.000358  0.000371  0.013011 -0.009998 -0.016823          0  \n",
              "2 -0.014321  0.026418  0.005309 -0.002873  0.004974          0  \n",
              "3  0.019332  0.000592 -0.016997 -0.008004 -0.003499          0  \n",
              "4  0.004339  0.003538 -0.001517 -0.000754 -0.007251          0  \n",
              "\n",
              "[5 rows x 51 columns]"
            ],
            "text/html": [
              "\n",
              "  <div id=\"df-32540e9f-17d7-4faf-8aad-a81e4e78e5c1\" class=\"colab-df-container\">\n",
              "    <div>\n",
              "<style scoped>\n",
              "    .dataframe tbody tr th:only-of-type {\n",
              "        vertical-align: middle;\n",
              "    }\n",
              "\n",
              "    .dataframe tbody tr th {\n",
              "        vertical-align: top;\n",
              "    }\n",
              "\n",
              "    .dataframe thead th {\n",
              "        text-align: right;\n",
              "    }\n",
              "</style>\n",
              "<table border=\"1\" class=\"dataframe\">\n",
              "  <thead>\n",
              "    <tr style=\"text-align: right;\">\n",
              "      <th></th>\n",
              "      <th>pc1</th>\n",
              "      <th>pc2</th>\n",
              "      <th>pc3</th>\n",
              "      <th>pc4</th>\n",
              "      <th>pc5</th>\n",
              "      <th>pc6</th>\n",
              "      <th>pc7</th>\n",
              "      <th>pc8</th>\n",
              "      <th>pc9</th>\n",
              "      <th>pc10</th>\n",
              "      <th>...</th>\n",
              "      <th>pc42</th>\n",
              "      <th>pc43</th>\n",
              "      <th>pc44</th>\n",
              "      <th>pc45</th>\n",
              "      <th>pc46</th>\n",
              "      <th>pc47</th>\n",
              "      <th>pc48</th>\n",
              "      <th>pc49</th>\n",
              "      <th>pc50</th>\n",
              "      <th>sentiment</th>\n",
              "    </tr>\n",
              "  </thead>\n",
              "  <tbody>\n",
              "    <tr>\n",
              "      <th>0</th>\n",
              "      <td>0.187366</td>\n",
              "      <td>-0.037551</td>\n",
              "      <td>0.003383</td>\n",
              "      <td>-0.098317</td>\n",
              "      <td>-0.033124</td>\n",
              "      <td>0.029089</td>\n",
              "      <td>-0.003343</td>\n",
              "      <td>-0.042620</td>\n",
              "      <td>0.037142</td>\n",
              "      <td>-0.068074</td>\n",
              "      <td>...</td>\n",
              "      <td>-0.024703</td>\n",
              "      <td>0.019787</td>\n",
              "      <td>0.007909</td>\n",
              "      <td>-0.001765</td>\n",
              "      <td>-0.030302</td>\n",
              "      <td>0.066047</td>\n",
              "      <td>0.000879</td>\n",
              "      <td>-0.066075</td>\n",
              "      <td>-0.041538</td>\n",
              "      <td>0</td>\n",
              "    </tr>\n",
              "    <tr>\n",
              "      <th>1</th>\n",
              "      <td>-0.043572</td>\n",
              "      <td>-0.037686</td>\n",
              "      <td>-0.016375</td>\n",
              "      <td>-0.044416</td>\n",
              "      <td>-0.002662</td>\n",
              "      <td>0.003325</td>\n",
              "      <td>-0.054178</td>\n",
              "      <td>-0.034707</td>\n",
              "      <td>0.005334</td>\n",
              "      <td>-0.008146</td>\n",
              "      <td>...</td>\n",
              "      <td>-0.006265</td>\n",
              "      <td>-0.003505</td>\n",
              "      <td>-0.008676</td>\n",
              "      <td>-0.010445</td>\n",
              "      <td>0.000358</td>\n",
              "      <td>0.000371</td>\n",
              "      <td>0.013011</td>\n",
              "      <td>-0.009998</td>\n",
              "      <td>-0.016823</td>\n",
              "      <td>0</td>\n",
              "    </tr>\n",
              "    <tr>\n",
              "      <th>2</th>\n",
              "      <td>-0.052345</td>\n",
              "      <td>-0.046591</td>\n",
              "      <td>-0.020529</td>\n",
              "      <td>-0.052221</td>\n",
              "      <td>-0.010865</td>\n",
              "      <td>0.004682</td>\n",
              "      <td>-0.042688</td>\n",
              "      <td>-0.040378</td>\n",
              "      <td>0.008212</td>\n",
              "      <td>-0.008966</td>\n",
              "      <td>...</td>\n",
              "      <td>-0.016227</td>\n",
              "      <td>-0.010633</td>\n",
              "      <td>-0.010543</td>\n",
              "      <td>-0.018910</td>\n",
              "      <td>-0.014321</td>\n",
              "      <td>0.026418</td>\n",
              "      <td>0.005309</td>\n",
              "      <td>-0.002873</td>\n",
              "      <td>0.004974</td>\n",
              "      <td>0</td>\n",
              "    </tr>\n",
              "    <tr>\n",
              "      <th>3</th>\n",
              "      <td>-0.105014</td>\n",
              "      <td>0.131481</td>\n",
              "      <td>0.333232</td>\n",
              "      <td>0.031310</td>\n",
              "      <td>0.018640</td>\n",
              "      <td>-0.005778</td>\n",
              "      <td>-0.066925</td>\n",
              "      <td>0.070908</td>\n",
              "      <td>0.165601</td>\n",
              "      <td>0.037726</td>\n",
              "      <td>...</td>\n",
              "      <td>-0.016470</td>\n",
              "      <td>-0.034352</td>\n",
              "      <td>0.041027</td>\n",
              "      <td>-0.013902</td>\n",
              "      <td>0.019332</td>\n",
              "      <td>0.000592</td>\n",
              "      <td>-0.016997</td>\n",
              "      <td>-0.008004</td>\n",
              "      <td>-0.003499</td>\n",
              "      <td>0</td>\n",
              "    </tr>\n",
              "    <tr>\n",
              "      <th>4</th>\n",
              "      <td>-0.045729</td>\n",
              "      <td>-0.050304</td>\n",
              "      <td>-0.054038</td>\n",
              "      <td>-0.108178</td>\n",
              "      <td>0.499385</td>\n",
              "      <td>-0.025117</td>\n",
              "      <td>0.053499</td>\n",
              "      <td>0.002597</td>\n",
              "      <td>-0.013484</td>\n",
              "      <td>0.006202</td>\n",
              "      <td>...</td>\n",
              "      <td>-0.000272</td>\n",
              "      <td>0.003264</td>\n",
              "      <td>-0.004770</td>\n",
              "      <td>0.005261</td>\n",
              "      <td>0.004339</td>\n",
              "      <td>0.003538</td>\n",
              "      <td>-0.001517</td>\n",
              "      <td>-0.000754</td>\n",
              "      <td>-0.007251</td>\n",
              "      <td>0</td>\n",
              "    </tr>\n",
              "  </tbody>\n",
              "</table>\n",
              "<p>5 rows × 51 columns</p>\n",
              "</div>\n",
              "    <div class=\"colab-df-buttons\">\n",
              "\n",
              "  <div class=\"colab-df-container\">\n",
              "    <button class=\"colab-df-convert\" onclick=\"convertToInteractive('df-32540e9f-17d7-4faf-8aad-a81e4e78e5c1')\"\n",
              "            title=\"Convert this dataframe to an interactive table.\"\n",
              "            style=\"display:none;\">\n",
              "\n",
              "  <svg xmlns=\"http://www.w3.org/2000/svg\" height=\"24px\" viewBox=\"0 -960 960 960\">\n",
              "    <path d=\"M120-120v-720h720v720H120Zm60-500h600v-160H180v160Zm220 220h160v-160H400v160Zm0 220h160v-160H400v160ZM180-400h160v-160H180v160Zm440 0h160v-160H620v160ZM180-180h160v-160H180v160Zm440 0h160v-160H620v160Z\"/>\n",
              "  </svg>\n",
              "    </button>\n",
              "\n",
              "  <style>\n",
              "    .colab-df-container {\n",
              "      display:flex;\n",
              "      gap: 12px;\n",
              "    }\n",
              "\n",
              "    .colab-df-convert {\n",
              "      background-color: #E8F0FE;\n",
              "      border: none;\n",
              "      border-radius: 50%;\n",
              "      cursor: pointer;\n",
              "      display: none;\n",
              "      fill: #1967D2;\n",
              "      height: 32px;\n",
              "      padding: 0 0 0 0;\n",
              "      width: 32px;\n",
              "    }\n",
              "\n",
              "    .colab-df-convert:hover {\n",
              "      background-color: #E2EBFA;\n",
              "      box-shadow: 0px 1px 2px rgba(60, 64, 67, 0.3), 0px 1px 3px 1px rgba(60, 64, 67, 0.15);\n",
              "      fill: #174EA6;\n",
              "    }\n",
              "\n",
              "    .colab-df-buttons div {\n",
              "      margin-bottom: 4px;\n",
              "    }\n",
              "\n",
              "    [theme=dark] .colab-df-convert {\n",
              "      background-color: #3B4455;\n",
              "      fill: #D2E3FC;\n",
              "    }\n",
              "\n",
              "    [theme=dark] .colab-df-convert:hover {\n",
              "      background-color: #434B5C;\n",
              "      box-shadow: 0px 1px 3px 1px rgba(0, 0, 0, 0.15);\n",
              "      filter: drop-shadow(0px 1px 2px rgba(0, 0, 0, 0.3));\n",
              "      fill: #FFFFFF;\n",
              "    }\n",
              "  </style>\n",
              "\n",
              "    <script>\n",
              "      const buttonEl =\n",
              "        document.querySelector('#df-32540e9f-17d7-4faf-8aad-a81e4e78e5c1 button.colab-df-convert');\n",
              "      buttonEl.style.display =\n",
              "        google.colab.kernel.accessAllowed ? 'block' : 'none';\n",
              "\n",
              "      async function convertToInteractive(key) {\n",
              "        const element = document.querySelector('#df-32540e9f-17d7-4faf-8aad-a81e4e78e5c1');\n",
              "        const dataTable =\n",
              "          await google.colab.kernel.invokeFunction('convertToInteractive',\n",
              "                                                    [key], {});\n",
              "        if (!dataTable) return;\n",
              "\n",
              "        const docLinkHtml = 'Like what you see? Visit the ' +\n",
              "          '<a target=\"_blank\" href=https://colab.research.google.com/notebooks/data_table.ipynb>data table notebook</a>'\n",
              "          + ' to learn more about interactive tables.';\n",
              "        element.innerHTML = '';\n",
              "        dataTable['output_type'] = 'display_data';\n",
              "        await google.colab.output.renderOutput(dataTable, element);\n",
              "        const docLink = document.createElement('div');\n",
              "        docLink.innerHTML = docLinkHtml;\n",
              "        element.appendChild(docLink);\n",
              "      }\n",
              "    </script>\n",
              "  </div>\n",
              "\n",
              "\n",
              "<div id=\"df-dcf43d78-b6ec-4013-80f5-1e778167286c\">\n",
              "  <button class=\"colab-df-quickchart\" onclick=\"quickchart('df-dcf43d78-b6ec-4013-80f5-1e778167286c')\"\n",
              "            title=\"Suggest charts\"\n",
              "            style=\"display:none;\">\n",
              "\n",
              "<svg xmlns=\"http://www.w3.org/2000/svg\" height=\"24px\"viewBox=\"0 0 24 24\"\n",
              "     width=\"24px\">\n",
              "    <g>\n",
              "        <path d=\"M19 3H5c-1.1 0-2 .9-2 2v14c0 1.1.9 2 2 2h14c1.1 0 2-.9 2-2V5c0-1.1-.9-2-2-2zM9 17H7v-7h2v7zm4 0h-2V7h2v10zm4 0h-2v-4h2v4z\"/>\n",
              "    </g>\n",
              "</svg>\n",
              "  </button>\n",
              "\n",
              "<style>\n",
              "  .colab-df-quickchart {\n",
              "      --bg-color: #E8F0FE;\n",
              "      --fill-color: #1967D2;\n",
              "      --hover-bg-color: #E2EBFA;\n",
              "      --hover-fill-color: #174EA6;\n",
              "      --disabled-fill-color: #AAA;\n",
              "      --disabled-bg-color: #DDD;\n",
              "  }\n",
              "\n",
              "  [theme=dark] .colab-df-quickchart {\n",
              "      --bg-color: #3B4455;\n",
              "      --fill-color: #D2E3FC;\n",
              "      --hover-bg-color: #434B5C;\n",
              "      --hover-fill-color: #FFFFFF;\n",
              "      --disabled-bg-color: #3B4455;\n",
              "      --disabled-fill-color: #666;\n",
              "  }\n",
              "\n",
              "  .colab-df-quickchart {\n",
              "    background-color: var(--bg-color);\n",
              "    border: none;\n",
              "    border-radius: 50%;\n",
              "    cursor: pointer;\n",
              "    display: none;\n",
              "    fill: var(--fill-color);\n",
              "    height: 32px;\n",
              "    padding: 0;\n",
              "    width: 32px;\n",
              "  }\n",
              "\n",
              "  .colab-df-quickchart:hover {\n",
              "    background-color: var(--hover-bg-color);\n",
              "    box-shadow: 0 1px 2px rgba(60, 64, 67, 0.3), 0 1px 3px 1px rgba(60, 64, 67, 0.15);\n",
              "    fill: var(--button-hover-fill-color);\n",
              "  }\n",
              "\n",
              "  .colab-df-quickchart-complete:disabled,\n",
              "  .colab-df-quickchart-complete:disabled:hover {\n",
              "    background-color: var(--disabled-bg-color);\n",
              "    fill: var(--disabled-fill-color);\n",
              "    box-shadow: none;\n",
              "  }\n",
              "\n",
              "  .colab-df-spinner {\n",
              "    border: 2px solid var(--fill-color);\n",
              "    border-color: transparent;\n",
              "    border-bottom-color: var(--fill-color);\n",
              "    animation:\n",
              "      spin 1s steps(1) infinite;\n",
              "  }\n",
              "\n",
              "  @keyframes spin {\n",
              "    0% {\n",
              "      border-color: transparent;\n",
              "      border-bottom-color: var(--fill-color);\n",
              "      border-left-color: var(--fill-color);\n",
              "    }\n",
              "    20% {\n",
              "      border-color: transparent;\n",
              "      border-left-color: var(--fill-color);\n",
              "      border-top-color: var(--fill-color);\n",
              "    }\n",
              "    30% {\n",
              "      border-color: transparent;\n",
              "      border-left-color: var(--fill-color);\n",
              "      border-top-color: var(--fill-color);\n",
              "      border-right-color: var(--fill-color);\n",
              "    }\n",
              "    40% {\n",
              "      border-color: transparent;\n",
              "      border-right-color: var(--fill-color);\n",
              "      border-top-color: var(--fill-color);\n",
              "    }\n",
              "    60% {\n",
              "      border-color: transparent;\n",
              "      border-right-color: var(--fill-color);\n",
              "    }\n",
              "    80% {\n",
              "      border-color: transparent;\n",
              "      border-right-color: var(--fill-color);\n",
              "      border-bottom-color: var(--fill-color);\n",
              "    }\n",
              "    90% {\n",
              "      border-color: transparent;\n",
              "      border-bottom-color: var(--fill-color);\n",
              "    }\n",
              "  }\n",
              "</style>\n",
              "\n",
              "  <script>\n",
              "    async function quickchart(key) {\n",
              "      const quickchartButtonEl =\n",
              "        document.querySelector('#' + key + ' button');\n",
              "      quickchartButtonEl.disabled = true;  // To prevent multiple clicks.\n",
              "      quickchartButtonEl.classList.add('colab-df-spinner');\n",
              "      try {\n",
              "        const charts = await google.colab.kernel.invokeFunction(\n",
              "            'suggestCharts', [key], {});\n",
              "      } catch (error) {\n",
              "        console.error('Error during call to suggestCharts:', error);\n",
              "      }\n",
              "      quickchartButtonEl.classList.remove('colab-df-spinner');\n",
              "      quickchartButtonEl.classList.add('colab-df-quickchart-complete');\n",
              "    }\n",
              "    (() => {\n",
              "      let quickchartButtonEl =\n",
              "        document.querySelector('#df-dcf43d78-b6ec-4013-80f5-1e778167286c button');\n",
              "      quickchartButtonEl.style.display =\n",
              "        google.colab.kernel.accessAllowed ? 'block' : 'none';\n",
              "    })();\n",
              "  </script>\n",
              "</div>\n",
              "\n",
              "    </div>\n",
              "  </div>\n"
            ]
          },
          "metadata": {},
          "execution_count": 18
        }
      ]
    },
    {
      "cell_type": "code",
      "source": [],
      "metadata": {
        "id": "Z2IgRsMcwP_d"
      },
      "execution_count": null,
      "outputs": []
    },
    {
      "cell_type": "markdown",
      "source": [
        "### Save"
      ],
      "metadata": {
        "id": "HdsLUI8KwTQe"
      }
    },
    {
      "cell_type": "code",
      "source": [
        "from joblib import dump"
      ],
      "metadata": {
        "id": "AwzBC_dkwYq-"
      },
      "execution_count": null,
      "outputs": []
    },
    {
      "cell_type": "code",
      "source": [
        "dump(tf_idf, '/content/drive/MyDrive/Colab Notebooks/TFIDF')"
      ],
      "metadata": {
        "colab": {
          "base_uri": "https://localhost:8080/"
        },
        "id": "WJrT6LFhwbFn",
        "outputId": "c5557fab-7d02-48b2-fce0-f6e6fe6c0188"
      },
      "execution_count": null,
      "outputs": [
        {
          "output_type": "execute_result",
          "data": {
            "text/plain": [
              "['/content/drive/MyDrive/Colab Notebooks/TFIDF']"
            ]
          },
          "metadata": {},
          "execution_count": 21
        }
      ]
    },
    {
      "cell_type": "code",
      "source": [
        "dump(reducer, '/content/drive/MyDrive/Colab Notebooks/reducer')"
      ],
      "metadata": {
        "colab": {
          "base_uri": "https://localhost:8080/"
        },
        "id": "ei-HIXlKwoQP",
        "outputId": "b13457ae-af3b-4da8-962f-004cb49f4e66"
      },
      "execution_count": null,
      "outputs": [
        {
          "output_type": "execute_result",
          "data": {
            "text/plain": [
              "['/content/drive/MyDrive/Colab Notebooks/reducer']"
            ]
          },
          "metadata": {},
          "execution_count": 22
        }
      ]
    },
    {
      "cell_type": "code",
      "source": [
        "df.to_parquet('/content/drive/MyDrive/Colab Notebooks/All_Beauty_v5.parquet')"
      ],
      "metadata": {
        "id": "O6i6BqwVwrde"
      },
      "execution_count": null,
      "outputs": []
    }
  ]
}